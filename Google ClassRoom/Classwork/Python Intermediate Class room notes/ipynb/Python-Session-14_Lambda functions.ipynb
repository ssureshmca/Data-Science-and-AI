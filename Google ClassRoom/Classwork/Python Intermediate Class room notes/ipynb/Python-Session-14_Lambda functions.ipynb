{
 "cells": [
  {
   "cell_type": "code",
   "execution_count": null,
   "id": "7ae881a5",
   "metadata": {},
   "outputs": [],
   "source": [
    "# Create basic function"
   ]
  },
  {
   "cell_type": "markdown",
   "id": "fed60110",
   "metadata": {},
   "source": [
    "**one argument**"
   ]
  },
  {
   "cell_type": "code",
   "execution_count": 1,
   "id": "849837c8",
   "metadata": {},
   "outputs": [
    {
     "data": {
      "text/plain": [
       "30"
      ]
     },
     "execution_count": 1,
     "metadata": {},
     "output_type": "execute_result"
    }
   ],
   "source": [
    "def add(x):\n",
    "    return(x+10)\n",
    "\n",
    "add(20)"
   ]
  },
  {
   "cell_type": "code",
   "execution_count": 2,
   "id": "9cf1d495",
   "metadata": {},
   "outputs": [
    {
     "data": {
      "text/plain": [
       "30"
      ]
     },
     "execution_count": 2,
     "metadata": {},
     "output_type": "execute_result"
    }
   ],
   "source": [
    "def add(x):\n",
    "    summ=x+10\n",
    "    return(summ)\n",
    "\n",
    "add(20)"
   ]
  },
  {
   "cell_type": "code",
   "execution_count": null,
   "id": "34672d35",
   "metadata": {},
   "outputs": [],
   "source": [
    "def add(x):\n",
    "    return(x+10)\n",
    "\n",
    "add(20)\n",
    "\n",
    "\n",
    "# how many arguemts are present? : x\n",
    "# what you are returning?: x+10\n",
    "\n",
    "# format: lambda <argument_name>:<output>"
   ]
  },
  {
   "cell_type": "code",
   "execution_count": 3,
   "id": "d51c1420",
   "metadata": {},
   "outputs": [
    {
     "data": {
      "text/plain": [
       "30"
      ]
     },
     "execution_count": 3,
     "metadata": {},
     "output_type": "execute_result"
    }
   ],
   "source": [
    "add=lambda x:x+10\n",
    "add(20)"
   ]
  },
  {
   "cell_type": "code",
   "execution_count": null,
   "id": "5cf5fa46",
   "metadata": {},
   "outputs": [],
   "source": [
    "def square(x):\n",
    "    return(x*x)\n"
   ]
  },
  {
   "cell_type": "code",
   "execution_count": 4,
   "id": "c8a53038",
   "metadata": {},
   "outputs": [
    {
     "data": {
      "text/plain": [
       "25"
      ]
     },
     "execution_count": 4,
     "metadata": {},
     "output_type": "execute_result"
    }
   ],
   "source": [
    "square=lambda a:a*a\n",
    "square(5)"
   ]
  },
  {
   "cell_type": "code",
   "execution_count": null,
   "id": "76cc1777",
   "metadata": {},
   "outputs": [],
   "source": [
    "def cube(x):\n",
    "    return(x*x*x)"
   ]
  },
  {
   "cell_type": "code",
   "execution_count": 5,
   "id": "085f4295",
   "metadata": {},
   "outputs": [
    {
     "data": {
      "text/plain": [
       "27000"
      ]
     },
     "execution_count": 5,
     "metadata": {},
     "output_type": "execute_result"
    }
   ],
   "source": [
    "cube=lambda x:x*x*x\n",
    "\n",
    "cube(30)"
   ]
  },
  {
   "cell_type": "markdown",
   "id": "89dc70a7",
   "metadata": {},
   "source": [
    "**two arguments**"
   ]
  },
  {
   "cell_type": "code",
   "execution_count": null,
   "id": "3043b832",
   "metadata": {},
   "outputs": [],
   "source": [
    "def add(a,b):\n",
    "    return(a+b)\n",
    "\n",
    "add(20,30)\n",
    "\n",
    "\n",
    "# how many arguemts are present? : a,b\n",
    "# what you are returning?: a+b\n",
    "\n",
    "# format: lambda <arg1>,<arg2>:<output>"
   ]
  },
  {
   "cell_type": "code",
   "execution_count": 6,
   "id": "2fe9d9e3",
   "metadata": {},
   "outputs": [
    {
     "data": {
      "text/plain": [
       "50"
      ]
     },
     "execution_count": 6,
     "metadata": {},
     "output_type": "execute_result"
    }
   ],
   "source": [
    "add=lambda a,b:a+b\n",
    "add(20,30)"
   ]
  },
  {
   "cell_type": "code",
   "execution_count": 7,
   "id": "7379b3a6",
   "metadata": {},
   "outputs": [
    {
     "data": {
      "text/plain": [
       "5.0"
      ]
     },
     "execution_count": 7,
     "metadata": {},
     "output_type": "execute_result"
    }
   ],
   "source": [
    "# implement average of 3 numbers using lambda\n",
    "avrg=lambda a,b,c:(a+b+c)/3\n",
    "avrg(5,5,5)"
   ]
  },
  {
   "cell_type": "code",
   "execution_count": 10,
   "id": "74d12a28",
   "metadata": {},
   "outputs": [
    {
     "data": {
      "text/plain": [
       "26.67"
      ]
     },
     "execution_count": 10,
     "metadata": {},
     "output_type": "execute_result"
    }
   ],
   "source": [
    "# implemet avergae make c as default parameter\n",
    "avg=lambda a,b,c=30: round((a+b+c)/3,2)\n",
    "avg(20,30)"
   ]
  },
  {
   "cell_type": "code",
   "execution_count": 11,
   "id": "7c79dc79",
   "metadata": {},
   "outputs": [
    {
     "data": {
      "text/plain": [
       "26.67"
      ]
     },
     "execution_count": 11,
     "metadata": {},
     "output_type": "execute_result"
    }
   ],
   "source": [
    "round((a+b+c)/3,2)"
   ]
  },
  {
   "cell_type": "markdown",
   "id": "dd281476",
   "metadata": {},
   "source": [
    "**if-else**"
   ]
  },
  {
   "cell_type": "code",
   "execution_count": 12,
   "id": "deb94aec",
   "metadata": {},
   "outputs": [
    {
     "data": {
      "text/plain": [
       "200"
      ]
     },
     "execution_count": 12,
     "metadata": {},
     "output_type": "execute_result"
    }
   ],
   "source": [
    "# Create a function for finding greater number between two numbers\n",
    "def greater(n1,n2):\n",
    "    if n1>n2:\n",
    "        return(n1)\n",
    "    else:\n",
    "        return(n2)\n",
    "    \n",
    "greater(100,200)"
   ]
  },
  {
   "cell_type": "code",
   "execution_count": 13,
   "id": "06071658",
   "metadata": {},
   "outputs": [],
   "source": [
    "l1=[]\n",
    "def greater(n1,n2):\n",
    "    if n1>n2:\n",
    "        l1.append(n1)\n",
    "    else:\n",
    "        l1.append(n2)\n",
    "    \n",
    "greater(100,200)"
   ]
  },
  {
   "cell_type": "code",
   "execution_count": 14,
   "id": "2b34cb96",
   "metadata": {},
   "outputs": [
    {
     "data": {
      "text/plain": [
       "[200]"
      ]
     },
     "execution_count": 14,
     "metadata": {},
     "output_type": "execute_result"
    }
   ],
   "source": [
    "l1=[<if_output> <if_con> else <else_op> <loop>]"
   ]
  },
  {
   "cell_type": "code",
   "execution_count": null,
   "id": "f7cd5a02",
   "metadata": {},
   "outputs": [],
   "source": [
    "def greater(n1,n2):\n",
    "    if n1>n2:\n",
    "        return(n1)\n",
    "    else:\n",
    "        return(n2)\n",
    "    \n",
    "greater(100,200)\n",
    "\n",
    "# format :\n",
    "# lambda <arg1>,<arg2>: <if_output> <if_con> else <else_op>"
   ]
  },
  {
   "cell_type": "code",
   "execution_count": 15,
   "id": "e39e32c5",
   "metadata": {},
   "outputs": [
    {
     "data": {
      "text/plain": [
       "8"
      ]
     },
     "execution_count": 15,
     "metadata": {},
     "output_type": "execute_result"
    }
   ],
   "source": [
    "greater=lambda a,b: (a if a>b else b)\n",
    "greater(8,3)"
   ]
  },
  {
   "cell_type": "markdown",
   "id": "2ac36d27",
   "metadata": {},
   "source": [
    "- lambda function is nothing but create a function\n",
    "\n",
    "- one argument\n",
    "\n",
    "- multiple arguments\n",
    "\n",
    "- if else conditions\n",
    "\n",
    "- if else conditions same like list compehenshion\n"
   ]
  },
  {
   "cell_type": "code",
   "execution_count": 2,
   "id": "866a4085",
   "metadata": {},
   "outputs": [
    {
     "name": "stdout",
     "output_type": "stream",
     "text": [
      "['Hyd', 'Mumbai', 'Chennai']\n"
     ]
    },
    {
     "data": {
      "text/plain": [
       "['Hyd', 'Mumbai', 'Chennai']"
      ]
     },
     "execution_count": 2,
     "metadata": {},
     "output_type": "execute_result"
    }
   ],
   "source": [
    "list1=['hyd','mumbai','chennai']\n",
    "\n",
    "#output: ['Hyd','Mumbai','Chennai']\n",
    "\n",
    "# M-1: use append method\n",
    "\n",
    "list2=[]\n",
    "\n",
    "for i in list1:\n",
    "    list2.append(i.capitalize())\n",
    "    \n",
    "print(list2)\n",
    "\n",
    "# M-2: use list comprhenshion\n",
    "[i.capitalize() for i in list1]\n",
    "\n",
    "# M-3: make a lambda function"
   ]
  },
  {
   "cell_type": "code",
   "execution_count": null,
   "id": "37641cfe",
   "metadata": {},
   "outputs": [],
   "source": [
    "lambda <arguments>: <output>"
   ]
  },
  {
   "cell_type": "code",
   "execution_count": null,
   "id": "02bac8e6",
   "metadata": {},
   "outputs": [],
   "source": [
    "# whenever you use iterations \n",
    "\n",
    "# iterator: some thing can be iterbale/ you can print using for loop\n",
    "\n",
    "# list ,string, tuple, dictionary"
   ]
  },
  {
   "cell_type": "code",
   "execution_count": null,
   "id": "383ab350",
   "metadata": {},
   "outputs": [],
   "source": [
    "lambda <arguments>: <output>,<iterator>\n",
    "\n",
    "[i.capitalize() for i in list1]"
   ]
  },
  {
   "cell_type": "code",
   "execution_count": 3,
   "id": "cb4d3b29",
   "metadata": {},
   "outputs": [
    {
     "data": {
      "text/plain": [
       "(<function __main__.<lambda>(i)>, ['hyd', 'chennai', 'mumbai'])"
      ]
     },
     "execution_count": 3,
     "metadata": {},
     "output_type": "execute_result"
    }
   ],
   "source": [
    "list1=['hyd','chennai','mumbai']\n",
    "lambda i:i.capitalize(),list1"
   ]
  },
  {
   "cell_type": "code",
   "execution_count": null,
   "id": "df5d1922",
   "metadata": {},
   "outputs": [],
   "source": [
    "lambda <arg>:<output>"
   ]
  },
  {
   "cell_type": "code",
   "execution_count": null,
   "id": "b072f909",
   "metadata": {},
   "outputs": [],
   "source": [
    "- next thing is map input and output"
   ]
  },
  {
   "cell_type": "code",
   "execution_count": 4,
   "id": "bd7617a2",
   "metadata": {},
   "outputs": [
    {
     "data": {
      "text/plain": [
       "<map at 0x1979c06cfd0>"
      ]
     },
     "execution_count": 4,
     "metadata": {},
     "output_type": "execute_result"
    }
   ],
   "source": [
    "list1=['hyd','chennai','mumbai']\n",
    "map(lambda i:i.capitalize(),list1)"
   ]
  },
  {
   "cell_type": "code",
   "execution_count": null,
   "id": "8d4eb5fc",
   "metadata": {},
   "outputs": [],
   "source": [
    "- store the output"
   ]
  },
  {
   "cell_type": "code",
   "execution_count": 5,
   "id": "7997b69a",
   "metadata": {},
   "outputs": [
    {
     "data": {
      "text/plain": [
       "['Hyd', 'Chennai', 'Mumbai']"
      ]
     },
     "execution_count": 5,
     "metadata": {},
     "output_type": "execute_result"
    }
   ],
   "source": [
    "list(map(lambda i:i.capitalize(),list1))"
   ]
  },
  {
   "cell_type": "markdown",
   "id": "b0cbc089",
   "metadata": {},
   "source": [
    "- first make a lambda function\n",
    "\n",
    "- second add your iterator\n",
    "\n",
    "- map both function and iterator\n",
    "\n",
    "- save the result in a list"
   ]
  },
  {
   "cell_type": "code",
   "execution_count": null,
   "id": "8b4c8b75",
   "metadata": {},
   "outputs": [],
   "source": [
    "list1=['hyd','chennai','mumbai']\n",
    "lambda i:i.capitalize(),list1\n",
    "map(lambda i:i.capitalize(),list1)\n",
    "list(map(lambda i:i.capitalize(),list1))"
   ]
  },
  {
   "cell_type": "code",
   "execution_count": 8,
   "id": "d0531016",
   "metadata": {},
   "outputs": [
    {
     "name": "stdout",
     "output_type": "stream",
     "text": [
      "1\n",
      "4\n",
      "9\n",
      "16\n",
      "25\n"
     ]
    }
   ],
   "source": [
    "list1=[1,2,3,4,5]\n",
    "# [1,4,9,16,25]\n",
    "\n",
    "\n",
    "list(map(lambda i:i*i,list1))\n",
    "\n",
    "for i in map(lambda i:i*i,list1):\n",
    "    print(i)"
   ]
  },
  {
   "cell_type": "code",
   "execution_count": 10,
   "id": "6f7a2d2a",
   "metadata": {},
   "outputs": [
    {
     "name": "stdout",
     "output_type": "stream",
     "text": [
      "12\n",
      "24\n",
      "36\n"
     ]
    }
   ],
   "source": [
    "list1=[1,2,3]\n",
    "list2=[11,22,33]\n",
    "\n",
    "# [12,24,36]\n",
    "\n",
    "for i,j in zip(list1,list2):\n",
    "    print(i+j)"
   ]
  },
  {
   "cell_type": "code",
   "execution_count": 15,
   "id": "99db9d40",
   "metadata": {},
   "outputs": [
    {
     "data": {
      "text/plain": [
       "'<map object at 0x000001979C06CC40>'"
      ]
     },
     "execution_count": 15,
     "metadata": {},
     "output_type": "execute_result"
    }
   ],
   "source": [
    "str(map(lambda i,j:i+j, list1,list2))"
   ]
  },
  {
   "cell_type": "code",
   "execution_count": 16,
   "id": "6074eb0f",
   "metadata": {},
   "outputs": [
    {
     "data": {
      "text/plain": [
       "<map at 0x1979c06dcc0>"
      ]
     },
     "execution_count": 16,
     "metadata": {},
     "output_type": "execute_result"
    }
   ],
   "source": [
    "map(lambda i,j:i+j, list1,list2)"
   ]
  },
  {
   "cell_type": "code",
   "execution_count": 18,
   "id": "43b7621f",
   "metadata": {},
   "outputs": [
    {
     "data": {
      "text/plain": [
       "'[]'"
      ]
     },
     "execution_count": 18,
     "metadata": {},
     "output_type": "execute_result"
    }
   ],
   "source": [
    "str([])"
   ]
  },
  {
   "cell_type": "code",
   "execution_count": null,
   "id": "74b01e0f",
   "metadata": {},
   "outputs": [],
   "source": [
    "i.capitalize()\n",
    "i*i\n",
    "i+j"
   ]
  },
  {
   "cell_type": "code",
   "execution_count": 20,
   "id": "4ca4afc5",
   "metadata": {},
   "outputs": [
    {
     "name": "stdout",
     "output_type": "stream",
     "text": [
      "['h#d', 'mum#bai']\n"
     ]
    },
    {
     "data": {
      "text/plain": [
       "['h#d', 'mum#bai']"
      ]
     },
     "execution_count": 20,
     "metadata": {},
     "output_type": "execute_result"
    }
   ],
   "source": [
    "list1=['h#d','mum#bai','chennai']\n",
    "#['h#d','mum#bai']\n",
    "\n",
    "list1=['h#d','mum#bai','chennai']\n",
    "list2=[]\n",
    "for i in list1:\n",
    "    if '#' in i:\n",
    "        list2.append(i)\n",
    "print(list2)\n",
    "\n",
    "\n",
    "[i for i in list1 if '#' in i]"
   ]
  },
  {
   "cell_type": "code",
   "execution_count": 25,
   "id": "79d17ca4",
   "metadata": {},
   "outputs": [
    {
     "data": {
      "text/plain": [
       "(<function __main__.<lambda>(i)>, ['h#d', 'mum#bai', 'chennai'])"
      ]
     },
     "execution_count": 25,
     "metadata": {},
     "output_type": "execute_result"
    }
   ],
   "source": [
    "#lambda <argument>:<condition>,<iterator>"
   ]
  },
  {
   "cell_type": "code",
   "execution_count": 28,
   "id": "d9c7ed48",
   "metadata": {},
   "outputs": [
    {
     "data": {
      "text/plain": [
       "[True, True, False]"
      ]
     },
     "execution_count": 28,
     "metadata": {},
     "output_type": "execute_result"
    }
   ],
   "source": [
    "list1=['h#d','mum#bai','chennai']\n",
    "list(map(lambda i: '#' in i,list1))\n",
    "\n",
    "# condition mapping to list of items"
   ]
  },
  {
   "cell_type": "code",
   "execution_count": 31,
   "id": "e5b3a6cf",
   "metadata": {},
   "outputs": [
    {
     "data": {
      "text/plain": [
       "['h#d', 'mum#bai']"
      ]
     },
     "execution_count": 31,
     "metadata": {},
     "output_type": "execute_result"
    }
   ],
   "source": [
    "list1=['h#d','mum#bai','chennai']\n",
    "list(filter(lambda i: '#' in i,list1))"
   ]
  },
  {
   "cell_type": "code",
   "execution_count": 30,
   "id": "eb0b1605",
   "metadata": {},
   "outputs": [
    {
     "data": {
      "text/plain": [
       "True"
      ]
     },
     "execution_count": 30,
     "metadata": {},
     "output_type": "execute_result"
    }
   ],
   "source": [
    "list1=['h#d','mum#bai','chennai']\n",
    "'#' in 'h#d'\n",
    "'#' in 'mum#bai'"
   ]
  },
  {
   "cell_type": "code",
   "execution_count": null,
   "id": "d6fe8cfa",
   "metadata": {},
   "outputs": [],
   "source": []
  }
 ],
 "metadata": {
  "kernelspec": {
   "display_name": "Python 3 (ipykernel)",
   "language": "python",
   "name": "python3"
  },
  "language_info": {
   "codemirror_mode": {
    "name": "ipython",
    "version": 3
   },
   "file_extension": ".py",
   "mimetype": "text/x-python",
   "name": "python",
   "nbconvert_exporter": "python",
   "pygments_lexer": "ipython3",
   "version": "3.11.5"
  }
 },
 "nbformat": 4,
 "nbformat_minor": 5
}
